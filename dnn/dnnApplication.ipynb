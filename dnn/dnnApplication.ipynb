{
 "cells": [
  {
   "cell_type": "markdown",
   "id": "10add5a2",
   "metadata": {},
   "source": [
    "# Importing packages needed for this project.\n",
    "\n",
    "1. Python libraries:\n",
    " - numpy: mathematical calculations and matrix reshaping\n",
    " - copy: copying parameters\n",
    " - scipy/ndimage and PIL: image processing used for testing the trained models.\n",
    " - h5py: Pythonic interface to the HDF5 binart data format. Needed for loading the dataset.\n",
    " - matplotlib.pyplot: plotting graphs.\n",
    " - os/path: use to work with working path.\n",
    "2. .py files:\n",
    " - [h5data](https://github.com/Thigiang/Deep-Learning-Algorithms/blob/main/dnn/h5data.py): a file that contains the load_dataset function allows us to load our training and testing datasets\n",
    " - [dnn](https://github.com/Thigiang/Deep-Learning-Algorithms/blob/main/dnn/dnn.py): a file that contains a deepNeuralNet class with different functions used for deep neural network (dnn) algorithms."
   ]
  },
  {
   "cell_type": "code",
   "execution_count": 1,
   "id": "fa7a83d5",
   "metadata": {},
   "outputs": [],
   "source": [
    "import numpy as np\n",
    "import copy\n",
    "import matplotlib.pyplot as plt\n",
    "import scipy\n",
    "from scipy import ndimage\n",
    "import h5py\n",
    "from PIL import Image\n",
    "from h5data import load_dataset\n",
    "from dnn import deepNeuralNet\n",
    "import os\n",
    "from path import my_path"
   ]
  },
  {
   "cell_type": "code",
   "execution_count": 2,
   "id": "bb6476c5",
   "metadata": {},
   "outputs": [],
   "source": [
    "my_path = my_path\n",
    "data_folder = \"Datasets\"\n",
    "path = os.path.join(my_path, data_folder)\n",
    "train_X_orig, train_y, test_X_orig, test_y , classes = load_dataset(path, 'train_catvnoncat.h5', 'test_catvnoncat.h5')"
   ]
  },
  {
   "cell_type": "markdown",
   "id": "8f8a430a",
   "metadata": {},
   "source": [
    "# Exploring the dataset"
   ]
  },
  {
   "cell_type": "markdown",
   "id": "db3cb903",
   "metadata": {},
   "source": [
    "It shows that there are 209 images in training data.\n",
    "\n",
    "Each image has size 64x64x3 (3 represents RGB).\n",
    "\n",
    "Y train is a row vector with 209 columns. Y take values 1 (cat) and 0 (non cat).\n",
    "\n",
    "To apply the neural network model, we will need to reshape X train and X test datasets. Also, for images dataset, the algorithm will work better if we standardize or normalize before running the ML model. For this dataset, we will standardize by dividing it by its maximum value (255)."
   ]
  },
  {
   "cell_type": "code",
   "execution_count": 3,
   "id": "e8a7cff6",
   "metadata": {},
   "outputs": [
    {
     "name": "stdout",
     "output_type": "stream",
     "text": [
      "X train has shape: (209, 64, 64, 3)\n",
      "Y train has shape: (1, 209)\n",
      "[b'non-cat' b'cat']\n"
     ]
    }
   ],
   "source": [
    "print(\"X train has shape: \"+ str(train_X_orig.shape))\n",
    "print(\"Y train has shape: \"+ str(train_y.shape))\n",
    "print(classes)"
   ]
  },
  {
   "cell_type": "code",
   "execution_count": 4,
   "id": "4a83f203",
   "metadata": {},
   "outputs": [
    {
     "name": "stdout",
     "output_type": "stream",
     "text": [
      "y= [1], it is a 'cat' picture.\n"
     ]
    },
    {
     "data": {
      "image/png": "[encoded data removed]",
      "text/plain": [
       "<Figure size 432x288 with 1 Axes>"
      ]
     },
     "metadata": {
      "needs_background": "light"
     },
     "output_type": "display_data"
    }
   ],
   "source": [
    "## plot an image in training set\n",
    "index = 11\n",
    "plt.imshow(train_X_orig[index])\n",
    "class_name = classes[np.squeeze(train_y[:, index])].decode(\"utf-8\")\n",
    "print(\"y= \"+ str(train_y[:, index]) + \", it is a '\" + class_name + \"' picture.\")"
   ]
  },
  {
   "cell_type": "code",
   "execution_count": 5,
   "id": "d64a24ca",
   "metadata": {},
   "outputs": [
    {
     "name": "stdout",
     "output_type": "stream",
     "text": [
      "train_n_x:  209\n",
      "test_n_x:  50\n",
      "number of pixels:  64\n"
     ]
    }
   ],
   "source": [
    "train_n_x, test_n_x = train_X_orig.shape[0], test_X_orig.shape[0]\n",
    "num_px = train_X_orig.shape[1] #num_px is the same for training and testing sets.\n",
    "print(\"train_n_x: \", str(train_n_x))\n",
    "print(\"test_n_x: \", test_n_x)\n",
    "print(\"number of pixels: \", num_px)"
   ]
  },
  {
   "cell_type": "markdown",
   "id": "6bf56f4c",
   "metadata": {},
   "source": [
    "# Preprocessing the dataset in 2 steps:\n",
    "\n",
    "1. Flattening train and test sets: Since our deep learning algorithm takes in input as a matrix of size (number_of_features, number_of_examples), we need to flatten X train and X test datasets using reshape function. train_y and test_y already have correct dimensions, so we will not preprocess them.\n",
    "\n",
    "\n",
    "2. Standardizing the train and test sets: It appears that the algorithm will work better and faster if we standardize it, so we will standardize them by dividing them by 255. (its maximum value)"
   ]
  },
  {
   "cell_type": "code",
   "execution_count": 6,
   "id": "75c2b0a8",
   "metadata": {},
   "outputs": [
    {
     "name": "stdout",
     "output_type": "stream",
     "text": [
      "X train now has shape:  (12288, 209)\n",
      "Y train has shape:  (1, 209)\n",
      "X test now has shape:  (12288, 50)\n",
      "Y test has shape:  (1, 50)\n",
      "There are 209 training examples in the train set\n",
      "There are 50 training examples in the test set\n"
     ]
    }
   ],
   "source": [
    "train_X_flatten = train_X_orig.reshape(train_n_x, -1).T\n",
    "test_X_flatten = test_X_orig.reshape(test_n_x, -1).T\n",
    "print(\"X train now has shape: \", train_X_flatten.shape)\n",
    "print(\"Y train has shape: \", train_y.shape)\n",
    "print(\"X test now has shape: \", test_X_flatten.shape)\n",
    "print(\"Y test has shape: \", test_y.shape)\n",
    "print(\"There are {} training examples in the train set\".format(train_X_flatten.shape[1]))\n",
    "print(\"There are {} training examples in the test set\".format(test_X_flatten.shape[1]))"
   ]
  },
  {
   "cell_type": "markdown",
   "id": "7e654015",
   "metadata": {},
   "source": [
    "## Now the train and test sets have correct dimensions. We will standardize them before we apply the dnn model"
   ]
  },
  {
   "cell_type": "code",
   "execution_count": 7,
   "id": "1a93ebb5",
   "metadata": {},
   "outputs": [],
   "source": [
    "train_X =  train_X_flatten/255.\n",
    "test_X  =  test_X_flatten/255."
   ]
  },
  {
   "cell_type": "markdown",
   "id": "d070d262",
   "metadata": {},
   "source": [
    "# Training and fitting the data using deep neural networks\n",
    "\n",
    "#### We will first train the model with 2 layers with 5 units in the hidden layer and 1 unit in the output layer"
   ]
  },
  {
   "cell_type": "code",
   "execution_count": 8,
   "id": "914ec332",
   "metadata": {},
   "outputs": [],
   "source": [
    "\"\"\"\n",
    "Recall that X has shape of (n_x, m) where n_x is the number of features in each example and\n",
    "m is the number of examples in the dataset. We need n_x for our training model\n",
    "\"\"\"\n",
    "train_nx = train_X.shape[0]\n",
    "\n",
    "\"\"\"\n",
    "Since we are going to train two models with different number of layers, we will create a costs and params dictionaries\n",
    "to store the costs and learned parameters from the model we train. This will be convinient for us later to plot the costs\n",
    "and compare the efficiency of the models. We will also define layer_sizes dictionary that store the layer size for each\n",
    "model.\n",
    "\"\"\"\n",
    "costs = {}\n",
    "learned_params = {}\n",
    "layer_sizes = {\"two layers\": [train_nx,7, 1], \"four layers\": [train_nx, 20, 7, 5, 1]}\n",
    "\n"
   ]
  },
  {
   "cell_type": "markdown",
   "id": "721e50a7",
   "metadata": {},
   "source": [
    "## Neural networks with 2 layers"
   ]
  },
  {
   "cell_type": "code",
   "execution_count": 10,
   "id": "25084f9b",
   "metadata": {},
   "outputs": [
    {
     "name": "stdout",
     "output_type": "stream",
     "text": [
      "Cost at 0th iteration is: 0.8006135644169141.\n",
      "Cost at 100th iteration is: 0.5310997193056597.\n",
      "Cost at 200th iteration is: 0.4861329663976495.\n",
      "Cost at 300th iteration is: 0.4403585464325004.\n",
      "Cost at 400th iteration is: 0.4034404485353793.\n",
      "Cost at 500th iteration is: 0.3523964091229354.\n",
      "Cost at 600th iteration is: 0.3162529842480854.\n",
      "Cost at 700th iteration is: 0.3219002198739451.\n",
      "Cost at 800th iteration is: 0.23649177114249761.\n",
      "Cost at 900th iteration is: 0.1922426641261451.\n",
      "Cost at 1000th iteration is: 0.1639754260393115.\n",
      "Cost at 1100th iteration is: 0.24369656995769456.\n",
      "Cost at 1200th iteration is: 0.12207339341761202.\n",
      "Cost at 1300th iteration is: 0.1157029163510433.\n",
      "Cost at 1400th iteration is: 0.08881408740019772.\n",
      "Cost at 1500th iteration is: 0.07815121073847593.\n",
      "Cost at 1600th iteration is: 0.06071356754388267.\n",
      "Cost at 1700th iteration is: 0.05287144399953207.\n",
      "Cost at 1800th iteration is: 0.04667250617972553.\n",
      "Cost at 1900th iteration is: 0.04204315890367021.\n",
      "Cost at 2000th iteration is: 0.03806082182985699.\n",
      "Cost at 2100th iteration is: 0.034806444372110903.\n",
      "Cost at 2200th iteration is: 0.03206838606162415.\n",
      "Cost at 2300th iteration is: 0.029792593316907864.\n",
      "Cost at 2400th iteration is: 0.027599018912067726.\n",
      "Cost at 2499th iteration is: 0.025875704983481785.\n"
     ]
    }
   ],
   "source": [
    " \n",
    "two_layers_model = deepNeuralNet(train_X, train_y, layer_sizes[\"two layers\"]) #Call the model\n",
    "\n",
    "params, cost = two_layers_model.fit( num_iterations=2500,learning_rate = 0.0075, print_cost = True)\n",
    "\n",
    "costs[\"two layers\"]= cost\n",
    "learned_params[\"two layers\"]= params\n"
   ]
  },
  {
   "cell_type": "markdown",
   "id": "9762e3e5",
   "metadata": {},
   "source": [
    "## Neural network with 4 layers"
   ]
  },
  {
   "cell_type": "code",
   "execution_count": 11,
   "id": "da7e0497",
   "metadata": {},
   "outputs": [
    {
     "name": "stdout",
     "output_type": "stream",
     "text": [
      "Cost at 0th iteration is: 0.6874257863473743.\n",
      "Cost at 100th iteration is: 0.6100887578487275.\n",
      "Cost at 200th iteration is: 0.5528386034631981.\n",
      "Cost at 300th iteration is: 0.4730313668533914.\n",
      "Cost at 400th iteration is: 0.4237926540091349.\n",
      "Cost at 500th iteration is: 0.37964279764062403.\n",
      "Cost at 600th iteration is: 0.3278936623981125.\n",
      "Cost at 700th iteration is: 0.28208918724053733.\n",
      "Cost at 800th iteration is: 0.24766510494982089.\n",
      "Cost at 900th iteration is: 0.13223349182891703.\n",
      "Cost at 1000th iteration is: 1.248198571630735.\n",
      "Cost at 1100th iteration is: 0.07376929681149978.\n",
      "Cost at 1200th iteration is: 0.05134377921753499.\n",
      "Cost at 1300th iteration is: 0.03725906117270286.\n",
      "Cost at 1400th iteration is: 0.02731848379184652.\n",
      "Cost at 1500th iteration is: 0.02136980560100887.\n",
      "Cost at 1600th iteration is: 0.017087659264131725.\n",
      "Cost at 1700th iteration is: 0.014091914782700592.\n",
      "Cost at 1800th iteration is: 0.011750725334688503.\n",
      "Cost at 1900th iteration is: 0.010001219334128763.\n",
      "Cost at 2000th iteration is: 0.008616244879528253.\n",
      "Cost at 2100th iteration is: 0.007517083183430268.\n",
      "Cost at 2200th iteration is: 0.006615601728930442.\n",
      "Cost at 2300th iteration is: 0.005877696410314501.\n",
      "Cost at 2400th iteration is: 0.005267817148114173.\n",
      "Cost at 2499th iteration is: 0.004760866839397953.\n"
     ]
    }
   ],
   "source": [
    "\n",
    "four_layers_model = deepNeuralNet(train_X, train_y, layer_sizes[\"four layers\"])\n",
    "params, cost = four_layers_model.fit(num_iterations=2500, learning_rate=0.0075, print_cost = True)\n",
    "\n",
    "costs[\"four layers\"]= cost\n",
    "learned_params[\"four layers\"]= params\n"
   ]
  },
  {
   "cell_type": "code",
   "execution_count": 12,
   "id": "9bf9bb9c",
   "metadata": {},
   "outputs": [
    {
     "data": {
      "image/png": "[encoded data removed]",
      "text/plain": [
       "<Figure size 432x288 with 1 Axes>"
      ]
     },
     "metadata": {
      "needs_background": "light"
     },
     "output_type": "display_data"
    }
   ],
   "source": [
    "learning_rate = 0.0075\n",
    "plt.plot(np.squeeze(costs['two layers']), label = 'Two layers')\n",
    "plt.plot(np.squeeze(costs['four layers']), label = \"Four layers\")\n",
    "plt.ylabel('cost')\n",
    "plt.xlabel('iterations (per hundreds)')\n",
    "plt.legend()\n",
    "plt.title(\"Cost of DNN models with Learning rate =\" + str(learning_rate))\n",
    "plt.show()"
   ]
  },
  {
   "cell_type": "markdown",
   "id": "f21f98b2",
   "metadata": {},
   "source": [
    "## Predict the true labels for test data and train data using the learned parameters"
   ]
  },
  {
   "cell_type": "code",
   "execution_count": 15,
   "id": "5d419828",
   "metadata": {},
   "outputs": [
    {
     "name": "stdout",
     "output_type": "stream",
     "text": [
      "two layers : \n",
      "\n",
      "Train accuracy: 0.9999999999999998\n",
      "Test accuracy: 0.72\n",
      "---------------------- \n",
      "\n",
      "four layers : \n",
      "\n",
      "Train accuracy: 0.9999999999999998\n",
      "Test accuracy: 0.6799999999999999\n",
      "---------------------- \n",
      "\n"
     ]
    }
   ],
   "source": [
    "layer_names = [\"two layers\", 'four layers']\n",
    "prediction_y={} #{\"two layers\": [train_y_hat, test_y_hat], \"four layers\": [train_y_hat, test_y_hat]}\n",
    "accuracy = {} #{\"two layers\": [train_accuracy, test_accuracy], \"four layer\": [train_accuracy, test_accuracy]}\n",
    "\n",
    "for layerName in layer_names:\n",
    "    if layerName == 'two layers':\n",
    "        prediction_y[layerName]= [two_layers_model.predict(train_X, learned_params[layerName]),two_layers_model.predict(test_X, learned_params[layerName])]\n",
    "        accuracy[layerName]= [two_layers_model.accuracy(prediction_y[layerName][0], train_y), two_layers_model.accuracy(prediction_y[layerName][1], test_y)]\n",
    "    else:\n",
    "        prediction_y[layerName]= [four_layers_model.predict(train_X, learned_params[layerName]),two_layers_model.predict(test_X, learned_params[layerName])]\n",
    "        accuracy[layerName]= [four_layers_model.accuracy(prediction_y[layerName][0], train_y), two_layers_model.accuracy(prediction_y[layerName][1], test_y)]\n",
    "                                                                                                                \n",
    "for layerName in layer_names:\n",
    "    print(layerName, \": \\n\")\n",
    "    print(\"Train accuracy: {}\".format(accuracy[layerName][0]))\n",
    "    print(\"Test accuracy: {}\".format(accuracy[layerName][1]))\n",
    "    print(\"---------------------- \\n\")\n",
    "# print(\"Two layer model: \\n Test accuracy: {} \\n Train accuracy: {}\".format(test_accuracy2, train_accuracy2))\n",
    "# print(\"Four layer model: \\n Test accuracy: {} \\n Train accuracy: {}\".format(test_accuracy4, train_accuracy4))\n"
   ]
  },
  {
   "cell_type": "code",
   "execution_count": null,
   "id": "94435aad",
   "metadata": {},
   "outputs": [],
   "source": []
  }
 ],
 "metadata": {
  "kernelspec": {
   "display_name": "Python 3 (ipykernel)",
   "language": "python",
   "name": "python3"
  },
  "language_info": {
   "codemirror_mode": {
    "name": "ipython",
    "version": 3
   },
   "file_extension": ".py",
   "mimetype": "text/x-python",
   "name": "python",
   "nbconvert_exporter": "python",
   "pygments_lexer": "ipython3",
   "version": "3.7.4"
  }
 },
 "nbformat": 4,
 "nbformat_minor": 5
}
