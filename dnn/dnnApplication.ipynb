{
 "cells": [
  {
   "cell_type": "markdown",
   "id": "10add5a2",
   "metadata": {},
   "source": [
    "Importing packages needed for this project."
   ]
  },
  {
   "cell_type": "code",
   "execution_count": 1,
   "id": "fa7a83d5",
   "metadata": {},
   "outputs": [],
   "source": [
    "import numpy as np\n",
    "import copy\n",
    "import matplotlib.pyplot as plt\n",
    "import scipy\n",
    "from scipy import ndimage\n",
    "import h5py\n",
    "from PIL import Image\n",
    "from h5data import load_dataset\n",
    "from dnn import dnn\n",
    "import os\n",
    "from path import my_path"
   ]
  },
  {
   "cell_type": "code",
   "execution_count": 2,
   "id": "bb6476c5",
   "metadata": {},
   "outputs": [],
   "source": [
    "my_path = my_path\n",
    "data_folder = \"Datasets\"\n",
    "path = os.path.join(my_path, data_folder)\n",
    "train_X_orig, train_y, test_X_orig, test_y , classes = load_dataset(path, 'train_catvnoncat.h5', 'test_catvnoncat.h5')"
   ]
  },
  {
   "cell_type": "markdown",
   "id": "8f8a430a",
   "metadata": {},
   "source": [
    "Explore the dataset"
   ]
  },
  {
   "cell_type": "code",
   "execution_count": null,
   "id": "56b8ab29",
   "metadata": {},
   "outputs": [],
   "source": []
  },
  {
   "cell_type": "markdown",
   "id": "db3cb903",
   "metadata": {},
   "source": [
    "It shows that there are 209 images in training data. Each image has size 64x64x3 (3 represents RGB). Y train is row vector with 209 columns. Y take values 1 (cat) and 0 (non cat). To apply the neural network model, we will need to reshape X train and X test datasets. Also, for images dataset, the algorithm will work better if we standardize or normalize before running the ML model. For this dataset, we will standardize by dividing it by its maximum value (255)."
   ]
  },
  {
   "cell_type": "code",
   "execution_count": 3,
   "id": "e8a7cff6",
   "metadata": {},
   "outputs": [
    {
     "name": "stdout",
     "output_type": "stream",
     "text": [
      "X train has shape: (209, 64, 64, 3)\n",
      "Y train has shape: (1, 209)\n",
      "[b'non-cat' b'cat']\n"
     ]
    }
   ],
   "source": [
    "print(\"X train has shape: \"+ str(train_X_orig.shape))\n",
    "print(\"Y train has shape: \"+ str(train_y.shape))\n",
    "print(classes)"
   ]
  },
  {
   "cell_type": "code",
   "execution_count": 4,
   "id": "4a83f203",
   "metadata": {},
   "outputs": [
    {
     "name": "stdout",
     "output_type": "stream",
     "text": [
      "y= [0], it is a 'non-cat' picture.\n"
     ]
    },
    {
     "data": {
      "image/png": "[encoded data removed]",
      "text/plain": [
       "<Figure size 432x288 with 1 Axes>"
      ]
     },
     "metadata": {
      "needs_background": "light"
     },
     "output_type": "display_data"
    }
   ],
   "source": [
    "## plot an image in training set\n",
    "index = 5\n",
    "plt.imshow(train_X_orig[index])\n",
    "class_name = classes[np.squeeze(train_y[:, index])].decode(\"utf-8\")\n",
    "print(\"y= \"+ str(train_y[:, index]) + \", it is a '\" + class_name + \"' picture.\")"
   ]
  },
  {
   "cell_type": "code",
   "execution_count": 5,
   "id": "d64a24ca",
   "metadata": {},
   "outputs": [],
   "source": [
    "train_n_x, test_n_x = train_X_orig.shape[0], test_X_orig.shape[0]\n",
    "num_px = train_X_orig.shape[1] #num_px is the same for training and testing sets."
   ]
  },
  {
   "cell_type": "markdown",
   "id": "6bf56f4c",
   "metadata": {},
   "source": [
    "Preprocessing the dataset with 2 steps:\n",
    "1. Since our deep learning algorithm takes in input as a matrix of sizes (number_of_features, number_of_examples). We need to flatten X train and X test datasets using reshape function. train_y and test_y already have correct dimensions, so we will not preprocess them.\n",
    "\n",
    "2. Standardize the train and test sets: It appears that the algorithm will work better and faster if we standardize it, so we will standardize them by dividing them by 255. (its maximum value)"
   ]
  },
  {
   "cell_type": "code",
   "execution_count": 6,
   "id": "75c2b0a8",
   "metadata": {},
   "outputs": [
    {
     "name": "stdout",
     "output_type": "stream",
     "text": [
      "X train now has shape:  (12288, 209)\n",
      "Y train has shape:  (1, 209)\n",
      "X test now has shape:  (12288, 50)\n",
      "Y test has shape:  (1, 50)\n",
      "There are 209 training examples in the train set\n",
      "There are 50 training examples in the test set\n"
     ]
    }
   ],
   "source": [
    "train_X_flatten = train_X_orig.reshape(train_n_x, -1).T\n",
    "test_X_flatten = test_X_orig.reshape(test_n_x, -1).T\n",
    "print(\"X train now has shape: \", train_X_flatten.shape)\n",
    "print(\"Y train has shape: \", train_y.shape)\n",
    "print(\"X test now has shape: \", test_X_flatten.shape)\n",
    "print(\"Y test has shape: \", test_y.shape)\n",
    "print(\"There are {} training examples in the train set\".format(train_X_flatten.shape[1]))\n",
    "print(\"There are {} training examples in the test set\".format(test_X_flatten.shape[1]))"
   ]
  },
  {
   "cell_type": "markdown",
   "id": "7e654015",
   "metadata": {},
   "source": [
    "Now the train and test sets have correct dimensions. We will standardize them before we apply the dnn model"
   ]
  },
  {
   "cell_type": "code",
   "execution_count": 7,
   "id": "1a93ebb5",
   "metadata": {},
   "outputs": [],
   "source": [
    "train_X =  train_X_flatten/255.\n",
    "test_X  =  test_X_flatten/255."
   ]
  },
  {
   "cell_type": "code",
   "execution_count": null,
   "id": "deb3b509",
   "metadata": {},
   "outputs": [],
   "source": []
  },
  {
   "cell_type": "markdown",
   "id": "d070d262",
   "metadata": {},
   "source": [
    "We will first train the model with 2 layers with 5 units in the hidden layer and 1 unit in the output layer"
   ]
  },
  {
   "cell_type": "code",
   "execution_count": 8,
   "id": "25084f9b",
   "metadata": {},
   "outputs": [
    {
     "name": "stdout",
     "output_type": "stream",
     "text": [
      "Cost at 0th iteration is: 0.7107729894566882.\n",
      "Cost at 100th iteration is: 0.5346895124486307.\n",
      "Cost at 200th iteration is: 0.4505857829449251.\n",
      "Cost at 300th iteration is: 0.4304501384311362.\n",
      "Cost at 400th iteration is: 0.3912757869008156.\n",
      "Cost at 500th iteration is: 0.3520114450957538.\n",
      "Cost at 600th iteration is: 0.31466204306777673.\n",
      "Cost at 700th iteration is: 0.27829764200928897.\n",
      "Cost at 800th iteration is: 0.24114533170765204.\n",
      "Cost at 900th iteration is: 0.21370871702698574.\n",
      "Cost at 1000th iteration is: 0.13149635203365595.\n",
      "Cost at 1100th iteration is: 0.10606121605041151.\n",
      "Cost at 1200th iteration is: 0.4437638217870026.\n",
      "Cost at 1300th iteration is: 0.07783640882246712.\n",
      "Cost at 1400th iteration is: 0.06613176359037541.\n",
      "Cost at 1500th iteration is: 0.056946957833073096.\n",
      "Cost at 1600th iteration is: 0.04958175233454018.\n",
      "Cost at 1700th iteration is: 0.04358117557683242.\n",
      "Cost at 1800th iteration is: 0.03862989406627703.\n",
      "Cost at 1900th iteration is: 0.03450298526398464.\n",
      "Cost at 2000th iteration is: 0.031018324037705935.\n",
      "Cost at 2100th iteration is: 0.028069554730788687.\n",
      "Cost at 2200th iteration is: 0.025537860088729054.\n",
      "Cost at 2300th iteration is: 0.02336445872166272.\n",
      "Cost at 2400th iteration is: 0.0214676381391514.\n",
      "Cost at 2499th iteration is: 0.019833072289970156.\n"
     ]
    }
   ],
   "source": [
    "train_n_x = train_X.shape[0]\n",
    "layer_sizes = [train_n_x, 7, 1] #two layer model\n",
    "two_layers_model = dnn(train_X, train_y, layer_sizes)\n",
    "two_layer_params, two_layer_costs = two_layers_model.fit( 2500, 0.0075, print_cost = True)"
   ]
  },
  {
   "cell_type": "code",
   "execution_count": 9,
   "id": "5b610dc4",
   "metadata": {},
   "outputs": [
    {
     "data": {
      "image/png": "[encoded data removed]",
      "text/plain": [
       "<Figure size 432x288 with 1 Axes>"
      ]
     },
     "metadata": {
      "needs_background": "light"
     },
     "output_type": "display_data"
    }
   ],
   "source": [
    "learning_rate = 0.075\n",
    "plt.plot(np.squeeze(two_layer_costs))\n",
    "plt.ylabel('cost')\n",
    "plt.xlabel('iterations (per hundreds)')\n",
    "plt.title(\"Two layer model, Learning rate =\" + str(learning_rate))\n",
    "plt.show()"
   ]
  },
  {
   "cell_type": "code",
   "execution_count": 10,
   "id": "da7e0497",
   "metadata": {},
   "outputs": [
    {
     "name": "stdout",
     "output_type": "stream",
     "text": [
      "Cost at 0th iteration is: 0.6970060259628258.\n",
      "Cost at 100th iteration is: 0.5534749610908571.\n",
      "Cost at 200th iteration is: 0.4985708192511039.\n",
      "Cost at 300th iteration is: 0.4508976054407221.\n",
      "Cost at 400th iteration is: 0.40306803535414665.\n",
      "Cost at 500th iteration is: 0.3574429309617457.\n",
      "Cost at 600th iteration is: 0.2528232564453889.\n",
      "Cost at 700th iteration is: 0.17715885217962524.\n",
      "Cost at 800th iteration is: 0.15243278068801677.\n",
      "Cost at 900th iteration is: 0.17514716461246208.\n",
      "Cost at 1000th iteration is: 0.5350007845983774.\n",
      "Cost at 1100th iteration is: 0.03654364551538165.\n",
      "Cost at 1200th iteration is: 0.024263649381678472.\n",
      "Cost at 1300th iteration is: 0.017520566045480832.\n",
      "Cost at 1400th iteration is: 0.013119230424055387.\n",
      "Cost at 1500th iteration is: 0.010415372908993067.\n",
      "Cost at 1600th iteration is: 0.008514586959753762.\n",
      "Cost at 1700th iteration is: 0.007129208871825167.\n",
      "Cost at 1800th iteration is: 0.006093968750281753.\n",
      "Cost at 1900th iteration is: 0.00529098633306403.\n",
      "Cost at 2000th iteration is: 0.004654021586373508.\n",
      "Cost at 2100th iteration is: 0.004137692103313162.\n",
      "Cost at 2200th iteration is: 0.0037144592566566246.\n",
      "Cost at 2300th iteration is: 0.0033614712223984894.\n",
      "Cost at 2400th iteration is: 0.0030612018900320163.\n",
      "Cost at 2499th iteration is: 0.002809642483026713.\n"
     ]
    }
   ],
   "source": [
    "\n",
    "layer_sizes = [12288,20, 7, 5, 1]\n",
    "four_layers_model = dnn(train_X, train_y, layer_sizes)\n",
    "four_layer_params, four_layer_costs = four_layers_model.fit(num_iterations=2500, learning_rate=0.0075, print_cost = True)"
   ]
  },
  {
   "cell_type": "code",
   "execution_count": 11,
   "id": "9bf9bb9c",
   "metadata": {},
   "outputs": [
    {
     "data": {
      "image/png": "[encoded data removed]",
      "text/plain": [
       "<Figure size 432x288 with 1 Axes>"
      ]
     },
     "metadata": {
      "needs_background": "light"
     },
     "output_type": "display_data"
    }
   ],
   "source": [
    "learning_rate = 0.075\n",
    "plt.plot(np.squeeze(four_layer_costs))\n",
    "plt.ylabel('cost')\n",
    "plt.xlabel('iterations (per hundreds)')\n",
    "plt.title(\"Four layer model, Learning rate =\" + str(learning_rate))\n",
    "plt.show()"
   ]
  },
  {
   "cell_type": "code",
   "execution_count": 14,
   "id": "5d419828",
   "metadata": {},
   "outputs": [
    {
     "name": "stdout",
     "output_type": "stream",
     "text": [
      "Two layer model: \n",
      " Test accuracy: 0.72 \n",
      " Train accuracy: 0.9999999999999998\n",
      "Four layer model: \n",
      " Test accuracy: 0.76 \n",
      " Train accuracy: 0.9999999999999998\n"
     ]
    }
   ],
   "source": [
    "y_test_pred2 = two_layers_model.predict(test_X, two_layer_params)\n",
    "test_accuracy2 = two_layers_model.accuracy(y_test_pred2, test_y)\n",
    "y_train_pred2= two_layers_model.predict(train_X, two_layer_params)\n",
    "train_accuracy2 = two_layers_model.accuracy(y_train_pred2, train_y)\n",
    "\n",
    "y_test_pred4 = four_layers_model.predict(test_X, four_layer_params)\n",
    "test_accuracy4 = four_layers_model.accuracy(y_test_pred4, test_y)\n",
    "y_train_pred4= four_layers_model.predict(train_X, four_layer_params)\n",
    "train_accuracy4 = four_layers_model.accuracy(y_train_pred4, train_y)\n",
    "print(\"Two layer model: \\n Test accuracy: {} \\n Train accuracy: {}\".format(test_accuracy2, train_accuracy2))\n",
    "print(\"Four layer model: \\n Test accuracy: {} \\n Train accuracy: {}\".format(test_accuracy4, train_accuracy4))\n"
   ]
  },
  {
   "cell_type": "code",
   "execution_count": null,
   "id": "8312e23b",
   "metadata": {},
   "outputs": [],
   "source": [
    "def L_layer_model(X, Y, layers_dims, learning_rate = 0.0075, num_iterations = 3000, print_cost=False):\n",
    "    \"\"\"\n",
    "    Implements a L-layer neural network: [LINEAR->RELU]*(L-1)->LINEAR->SIGMOID.\n",
    "    \n",
    "    Arguments:\n",
    "    X -- input data, of shape (n_x, number of examples)\n",
    "    Y -- true \"label\" vector (containing 1 if cat, 0 if non-cat), of shape (1, number of examples)\n",
    "    layers_dims -- list containing the input size and each layer size, of length (number of layers + 1).\n",
    "    learning_rate -- learning rate of the gradient descent update rule\n",
    "    num_iterations -- number of iterations of the optimization loop\n",
    "    print_cost -- if True, it prints the cost every 100 steps\n",
    "    \n",
    "    Returns:\n",
    "    parameters -- parameters learnt by the model. They can then be used to predict.\n",
    "    \"\"\"\n",
    "\n",
    "    np.random.seed(1)\n",
    "    costs = []                         # keep track of cost\n",
    "    \n",
    "    # Parameters initialization.\n",
    "    #(≈ 1 line of code)\n",
    "    # parameters = ...\n",
    "    # YOUR CODE STARTS HERE\n",
    "    \n",
    "    parameters= dnn.initialize_parameters_deep(layers_dims)\n",
    "    # YOUR CODE ENDS HERE\n",
    "    \n",
    "    # Loop (gradient descent)\n",
    "    for i in range(0, num_iterations):\n",
    "\n",
    "        # Forward propagation: [LINEAR -> RELU]*(L-1) -> LINEAR -> SIGMOID.\n",
    "        #(≈ 1 line of code)\n",
    "        # AL, caches = ...\n",
    "        # YOUR CODE STARTS HERE\n",
    "        \n",
    "        AL, caches = dnn.L_forward_prop(X, parameters)\n",
    "        \n",
    "        # YOUR CODE ENDS HERE\n",
    "        \n",
    "        # Compute cost.\n",
    "        #(≈ 1 line of code)\n",
    "        # cost = ...\n",
    "        # YOUR CODE STARTS HERE\n",
    "        cost = dnn.compute_cost(AL, Y)\n",
    "        \n",
    "        # YOUR CODE ENDS HERE\n",
    "    \n",
    "        # Backward propagation.\n",
    "        #(≈ 1 line of code)\n",
    "        # grads = ...    \n",
    "        # YOUR CODE STARTS HERE\n",
    "        \n",
    "        grads = dnn.L_backward_prop(AL, Y, caches)\n",
    "        # YOUR CODE ENDS HERE\n",
    " \n",
    "        # Update parameters.\n",
    "        #(≈ 1 line of code)\n",
    "        # parameters = ...\n",
    "        # YOUR CODE STARTS HERE\n",
    "        parameters= dnn.update_parameters(grads, parameters, learning_rate)\n",
    "        \n",
    "        # YOUR CODE ENDS HERE\n",
    "                \n",
    "        # Print the cost every 100 iterations\n",
    "        if print_cost and i % 100 == 0 or i == num_iterations - 1:\n",
    "            print(\"Cost after iteration {}: {}\".format(i, np.squeeze(cost)))\n",
    "        if i % 100 == 0 or i == num_iterations:\n",
    "            costs.append(cost)\n",
    "    \n",
    "    return parameters, costs"
   ]
  },
  {
   "cell_type": "code",
   "execution_count": null,
   "id": "e18da2d7",
   "metadata": {},
   "outputs": [],
   "source": [
    "layer_sizes=[12288, 20, 7, 5, 1]\n",
    "parameters, costs = L_layer_model(X_train, train_y, layer_sizes, num_iterations = 2500, print_cost = True)"
   ]
  },
  {
   "cell_type": "code",
   "execution_count": null,
   "id": "3346a60e",
   "metadata": {},
   "outputs": [],
   "source": [
    "test_accuracy = np.sum(np.abs(y_test_prediction - test_y))/(test_y.shape[1])\n",
    "train_accuracy = np.sum(np.abs(y_train_prediction - train_y))/(train_y.shape[1])\n",
    "print(\"test accuracy is: {}\".format(test_accuracy))\n",
    "print(\"train accuracy is: {}\".format(train_accuracy))"
   ]
  },
  {
   "cell_type": "code",
   "execution_count": null,
   "id": "9fe17a3d",
   "metadata": {},
   "outputs": [],
   "source": [
    "learning_rate = 0.0075\n",
    "plt.plot(np.squeeze(costs))\n",
    "plt.ylabel('cost')\n",
    "plt.xlabel('iterations (per hundreds)')\n",
    "plt.title(\"Learning rate =\" + str(learning_rate))\n",
    "plt.show()\n"
   ]
  },
  {
   "cell_type": "code",
   "execution_count": null,
   "id": "0536129b",
   "metadata": {},
   "outputs": [],
   "source": []
  }
 ],
 "metadata": {
  "kernelspec": {
   "display_name": "Python 3 (ipykernel)",
   "language": "python",
   "name": "python3"
  },
  "language_info": {
   "codemirror_mode": {
    "name": "ipython",
    "version": 3
   },
   "file_extension": ".py",
   "mimetype": "text/x-python",
   "name": "python",
   "nbconvert_exporter": "python",
   "pygments_lexer": "ipython3",
   "version": "3.7.4"
  }
 },
 "nbformat": 4,
 "nbformat_minor": 5
}
