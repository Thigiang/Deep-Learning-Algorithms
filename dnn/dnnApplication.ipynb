{
 "cells": [
  {
   "cell_type": "markdown",
   "id": "10add5a2",
   "metadata": {},
   "source": [
    "# Importing packages needed for this project.\n",
    "\n",
    "1. Python libraries:\n",
    " - numpy: mathematical calculations and matrix reshaping\n",
    " - copy: copying parameters\n",
    " - scipy/ndimage and PIL: image processing used for testing the trained models.\n",
    " - h5py: Pythonic interface to the HDF5 binart data format. Needed for loading the dataset.\n",
    " - matplotlib.pyplot: plotting graphs.\n",
    " - os/path: use to work with working path.\n",
    "2. .py files:\n",
    " - [h5data](https://github.com/Thigiang/Deep-Learning-Algorithms/blob/main/dnn/h5data.py): a file that contains the load_dataset function allows us to load our training and testing datasets\n",
    " - [dnn](https://github.com/Thigiang/Deep-Learning-Algorithms/blob/main/dnn/dnn.py): a file that contains a deepNeuralNet class with different functions used for deep neural network (dnn) algorithms."
   ]
  },
  {
   "cell_type": "code",
   "execution_count": 22,
   "id": "fa7a83d5",
   "metadata": {},
   "outputs": [
    {
     "ename": "ImportError",
     "evalue": "cannot import name 'deepNeuralNet' from 'dnn' (/Users/gabati/Documents/GitHub/ML/dnn/dnn.py)",
     "output_type": "error",
     "traceback": [
      "\u001b[0;31m---------------------------------------------------------------------------\u001b[0m",
      "\u001b[0;31mImportError\u001b[0m                               Traceback (most recent call last)",
      "\u001b[0;32m/var/folders/jf/tzx8nnhx7cg40b_hdbhcrqd40000gn/T/ipykernel_9899/3779088891.py\u001b[0m in \u001b[0;36m<module>\u001b[0;34m\u001b[0m\n\u001b[1;32m      7\u001b[0m \u001b[0;32mfrom\u001b[0m \u001b[0mPIL\u001b[0m \u001b[0;32mimport\u001b[0m \u001b[0mImage\u001b[0m\u001b[0;34m\u001b[0m\u001b[0;34m\u001b[0m\u001b[0m\n\u001b[1;32m      8\u001b[0m \u001b[0;32mfrom\u001b[0m \u001b[0mh5data\u001b[0m \u001b[0;32mimport\u001b[0m \u001b[0mload_dataset\u001b[0m\u001b[0;34m\u001b[0m\u001b[0;34m\u001b[0m\u001b[0m\n\u001b[0;32m----> 9\u001b[0;31m \u001b[0;32mfrom\u001b[0m \u001b[0mdnn\u001b[0m \u001b[0;32mimport\u001b[0m \u001b[0mdeepNeuralNet\u001b[0m\u001b[0;34m\u001b[0m\u001b[0;34m\u001b[0m\u001b[0m\n\u001b[0m\u001b[1;32m     10\u001b[0m \u001b[0;32mimport\u001b[0m \u001b[0mos\u001b[0m\u001b[0;34m\u001b[0m\u001b[0;34m\u001b[0m\u001b[0m\n\u001b[1;32m     11\u001b[0m \u001b[0;32mfrom\u001b[0m \u001b[0mpath\u001b[0m \u001b[0;32mimport\u001b[0m \u001b[0mmy_path\u001b[0m\u001b[0;34m\u001b[0m\u001b[0;34m\u001b[0m\u001b[0m\n",
      "\u001b[0;31mImportError\u001b[0m: cannot import name 'deepNeuralNet' from 'dnn' (/Users/gabati/Documents/GitHub/ML/dnn/dnn.py)"
     ]
    }
   ],
   "source": [
    "import numpy as np\n",
    "import copy\n",
    "import matplotlib.pyplot as plt\n",
    "import scipy\n",
    "from scipy import ndimage\n",
    "import h5py\n",
    "from PIL import Image\n",
    "from h5data import load_dataset\n",
    "from dnn import deepNeuralNet\n",
    "import os\n",
    "from path import my_path"
   ]
  },
  {
   "cell_type": "code",
   "execution_count": 20,
   "id": "bb6476c5",
   "metadata": {},
   "outputs": [],
   "source": [
    "my_path = my_path\n",
    "data_folder = \"Datasets\"\n",
    "path = os.path.join(my_path, data_folder)\n",
    "train_X_orig, train_y, test_X_orig, test_y , classes = load_dataset(path, 'train_catvnoncat.h5', 'test_catvnoncat.h5')"
   ]
  },
  {
   "cell_type": "markdown",
   "id": "8f8a430a",
   "metadata": {},
   "source": [
    "# Exploring the dataset"
   ]
  },
  {
   "cell_type": "markdown",
   "id": "db3cb903",
   "metadata": {},
   "source": [
    "It shows that there are 209 images in training data.\n",
    "\n",
    "Each image has size 64x64x3 (3 represents RGB).\n",
    "\n",
    "Y train is a row vector with 209 columns. Y take values 1 (cat) and 0 (non cat).\n",
    "\n",
    "To apply the neural network model, we will need to reshape X train and X test datasets. Also, for images dataset, the algorithm will work better if we standardize or normalize before running the ML model. For this dataset, we will standardize by dividing it by its maximum value (255)."
   ]
  },
  {
   "cell_type": "code",
   "execution_count": 3,
   "id": "e8a7cff6",
   "metadata": {},
   "outputs": [
    {
     "name": "stdout",
     "output_type": "stream",
     "text": [
      "X train has shape: (209, 64, 64, 3)\n",
      "Y train has shape: (1, 209)\n",
      "[b'non-cat' b'cat']\n"
     ]
    }
   ],
   "source": [
    "print(\"X train has shape: \"+ str(train_X_orig.shape))\n",
    "print(\"Y train has shape: \"+ str(train_y.shape))\n",
    "print(classes)"
   ]
  },
  {
   "cell_type": "code",
   "execution_count": 4,
   "id": "4a83f203",
   "metadata": {},
   "outputs": [
    {
     "name": "stdout",
     "output_type": "stream",
     "text": [
      "y= [1], it is a 'cat' picture.\n"
     ]
    },
    {
     "data": {
      "image/png": "[encoded data removed]",
      "text/plain": [
       "<Figure size 432x288 with 1 Axes>"
      ]
     },
     "metadata": {
      "needs_background": "light"
     },
     "output_type": "display_data"
    }
   ],
   "source": [
    "## plot an image in training set\n",
    "index = 11\n",
    "plt.imshow(train_X_orig[index])\n",
    "class_name = classes[np.squeeze(train_y[:, index])].decode(\"utf-8\")\n",
    "print(\"y= \"+ str(train_y[:, index]) + \", it is a '\" + class_name + \"' picture.\")"
   ]
  },
  {
   "cell_type": "code",
   "execution_count": 5,
   "id": "d64a24ca",
   "metadata": {},
   "outputs": [
    {
     "name": "stdout",
     "output_type": "stream",
     "text": [
      "train_n_x:  209\n",
      "test_n_x:  50\n",
      "number of pixels:  64\n"
     ]
    }
   ],
   "source": [
    "train_n_x, test_n_x = train_X_orig.shape[0], test_X_orig.shape[0]\n",
    "num_px = train_X_orig.shape[1] #num_px is the same for training and testing sets.\n",
    "print(\"train_n_x: \", str(train_n_x))\n",
    "print(\"test_n_x: \", test_n_x)\n",
    "print(\"number of pixels: \", num_px)"
   ]
  },
  {
   "cell_type": "markdown",
   "id": "6bf56f4c",
   "metadata": {},
   "source": [
    "# Preprocessing the dataset in 2 steps:\n",
    "\n",
    "1. Flattening train and test sets: Since our deep learning algorithm takes in input as a matrix of size (number_of_features, number_of_examples), we need to flatten X train and X test datasets using reshape function. train_y and test_y already have correct dimensions, so we will not preprocess them.\n",
    "\n",
    "\n",
    "2. Standardizing the train and test sets: It appears that the algorithm will work better and faster if we standardize it, so we will standardize them by dividing them by 255. (its maximum value)"
   ]
  },
  {
   "cell_type": "code",
   "execution_count": 6,
   "id": "75c2b0a8",
   "metadata": {},
   "outputs": [
    {
     "name": "stdout",
     "output_type": "stream",
     "text": [
      "X train now has shape:  (12288, 209)\n",
      "Y train has shape:  (1, 209)\n",
      "X test now has shape:  (12288, 50)\n",
      "Y test has shape:  (1, 50)\n",
      "There are 209 training examples in the train set\n",
      "There are 50 training examples in the test set\n"
     ]
    }
   ],
   "source": [
    "train_X_flatten = train_X_orig.reshape(train_n_x, -1).T\n",
    "test_X_flatten = test_X_orig.reshape(test_n_x, -1).T\n",
    "print(\"X train now has shape: \", train_X_flatten.shape)\n",
    "print(\"Y train has shape: \", train_y.shape)\n",
    "print(\"X test now has shape: \", test_X_flatten.shape)\n",
    "print(\"Y test has shape: \", test_y.shape)\n",
    "print(\"There are {} training examples in the train set\".format(train_X_flatten.shape[1]))\n",
    "print(\"There are {} training examples in the test set\".format(test_X_flatten.shape[1]))"
   ]
  },
  {
   "cell_type": "markdown",
   "id": "7e654015",
   "metadata": {},
   "source": [
    "## Now the train and test sets have correct dimensions. We will standardize them before we apply the dnn model"
   ]
  },
  {
   "cell_type": "code",
   "execution_count": 7,
   "id": "1a93ebb5",
   "metadata": {},
   "outputs": [],
   "source": [
    "train_X =  train_X_flatten/255.\n",
    "test_X  =  test_X_flatten/255."
   ]
  },
  {
   "cell_type": "markdown",
   "id": "d070d262",
   "metadata": {},
   "source": [
    "# Training and fitting the data using deep neural networks\n",
    "\n",
    "#### We will first train the model with 2 layers with 5 units in the hidden layer and 1 unit in the output layer"
   ]
  },
  {
   "cell_type": "code",
   "execution_count": 8,
   "id": "914ec332",
   "metadata": {},
   "outputs": [],
   "source": [
    "\"\"\"\n",
    "Recall that X has shape of (n_x, m) where n_x is the number of features in each example and\n",
    "m is the number of examples in the dataset. We need n_x for our training model\n",
    "\"\"\"\n",
    "train_nx = train_X.shape[0]\n",
    "\n",
    "\"\"\"\n",
    "Since we are going to train two models with different number of layers, we will create a costs and params dictionaries\n",
    "to store the costs and learned parameters from the model we train. This will be convinient for us later to plot the costs\n",
    "and compare the efficiency of the models. We will also define layer_sizes dictionary that store the layer size for each\n",
    "model.\n",
    "\"\"\"\n",
    "costs = {}\n",
    "learned_params = {}\n",
    "layer_sizes = {\"two layers\": [train_nx,7, 1], \"four layers\": [train_nx, 20, 7, 5, 1]}\n",
    "\n"
   ]
  },
  {
   "cell_type": "markdown",
   "id": "721e50a7",
   "metadata": {},
   "source": [
    "## Neural networks with 2 layers"
   ]
  },
  {
   "cell_type": "code",
   "execution_count": 9,
   "id": "25084f9b",
   "metadata": {},
   "outputs": [
    {
     "name": "stdout",
     "output_type": "stream",
     "text": [
      "Cost at 0th iteration is: 0.6918637927696628.\n",
      "Cost at 100th iteration is: 0.5537029225544797.\n",
      "Cost at 200th iteration is: 0.4731580458156138.\n",
      "Cost at 300th iteration is: 0.4334451680081702.\n",
      "Cost at 400th iteration is: 0.39722233218178843.\n",
      "Cost at 500th iteration is: 0.3541760296405532.\n",
      "Cost at 600th iteration is: 0.3178682330641546.\n",
      "Cost at 700th iteration is: 0.2619367349539079.\n",
      "Cost at 800th iteration is: 0.21504748452465697.\n",
      "Cost at 900th iteration is: 0.14783254253620925.\n",
      "Cost at 1000th iteration is: 0.1224382657248385.\n",
      "Cost at 1100th iteration is: 0.10672291619832898.\n",
      "Cost at 1200th iteration is: 0.09309847148034013.\n",
      "Cost at 1300th iteration is: 0.07773944083152635.\n",
      "Cost at 1400th iteration is: 0.06765183252189477.\n",
      "Cost at 1500th iteration is: 0.05987543380958501.\n",
      "Cost at 1600th iteration is: 0.054086950289248335.\n",
      "Cost at 1700th iteration is: 0.04907797800706941.\n",
      "Cost at 1800th iteration is: 0.04504416193804251.\n",
      "Cost at 1900th iteration is: 0.04179267537407609.\n",
      "Cost at 2000th iteration is: 0.03887273804172079.\n",
      "Cost at 2100th iteration is: 0.03639094170226795.\n",
      "Cost at 2200th iteration is: 0.03429267583410588.\n",
      "Cost at 2300th iteration is: 0.03248781276272333.\n",
      "Cost at 2400th iteration is: 0.03085920992881066.\n",
      "Cost at 2499th iteration is: 0.02946468884081821.\n"
     ]
    }
   ],
   "source": [
    " \n",
    "two_layers_model = deepNeuralnet(train_X, train_y, layer_sizes[\"two layers\"]) #Call the model\n",
    "\n",
    "params, cost = two_layers_model.fit( num_iterations=2500,learning_rate = 0.0075, print_cost = True)\n",
    "\n",
    "costs[\"two layers\"]= cost\n",
    "learned_params[\"two layers\"]= params\n"
   ]
  },
  {
   "cell_type": "markdown",
   "id": "9762e3e5",
   "metadata": {},
   "source": [
    "## Neural network with 4 layers"
   ]
  },
  {
   "cell_type": "code",
   "execution_count": 10,
   "id": "da7e0497",
   "metadata": {},
   "outputs": [
    {
     "name": "stdout",
     "output_type": "stream",
     "text": [
      "Cost at 0th iteration is: 0.6952836265102327.\n",
      "Cost at 100th iteration is: 0.6755471846571589.\n",
      "Cost at 200th iteration is: 0.6609640189015602.\n",
      "Cost at 300th iteration is: 0.6400738640020716.\n",
      "Cost at 400th iteration is: 0.6032701712633245.\n",
      "Cost at 500th iteration is: 0.5494855581124265.\n",
      "Cost at 600th iteration is: 0.4984248277424657.\n",
      "Cost at 700th iteration is: 0.4508147379833461.\n",
      "Cost at 800th iteration is: 0.40305504552980287.\n",
      "Cost at 900th iteration is: 0.3669483944013128.\n",
      "Cost at 1000th iteration is: 0.2845232039321382.\n",
      "Cost at 1100th iteration is: 0.22655042734814013.\n",
      "Cost at 1200th iteration is: 0.21926915776937378.\n",
      "Cost at 1300th iteration is: 0.19003100860553912.\n",
      "Cost at 1400th iteration is: 0.1253198056724918.\n",
      "Cost at 1500th iteration is: 0.09207616772317269.\n",
      "Cost at 1600th iteration is: 0.07024747033259512.\n",
      "Cost at 1700th iteration is: 0.05286097682446153.\n",
      "Cost at 1800th iteration is: 0.0427468962245403.\n",
      "Cost at 1900th iteration is: 0.03116161031143965.\n",
      "Cost at 2000th iteration is: 0.01994627882144836.\n",
      "Cost at 2100th iteration is: 0.013951499683770173.\n",
      "Cost at 2200th iteration is: 0.010693000289080254.\n",
      "Cost at 2300th iteration is: 0.008678351011317541.\n",
      "Cost at 2400th iteration is: 0.007280534683392083.\n",
      "Cost at 2499th iteration is: 0.0062494975377585275.\n"
     ]
    }
   ],
   "source": [
    "\n",
    "four_layers_model = deepNeuralNet(train_X, train_y, layer_sizes[\"four layers\"])\n",
    "params, cost = four_layers_model.fit(num_iterations=2500, learning_rate=0.0075, print_cost = True)\n",
    "\n",
    "costs[\"four layers\"]= cost\n",
    "learned_params[\"four layers\"]= params\n"
   ]
  },
  {
   "cell_type": "code",
   "execution_count": 13,
   "id": "9bf9bb9c",
   "metadata": {},
   "outputs": [
    {
     "data": {
      "image/png": "[encoded data removed]",
      "text/plain": [
       "<Figure size 432x288 with 1 Axes>"
      ]
     },
     "metadata": {
      "needs_background": "light"
     },
     "output_type": "display_data"
    }
   ],
   "source": [
    "learning_rate = 0.0075\n",
    "plt.plot(np.squeeze(costs['two layers']), label = 'Two layers')\n",
    "plt.plot(np.squeeze(costs['four layers']), label = \"Four layers\")\n",
    "plt.ylabel('cost')\n",
    "plt.xlabel('iterations (per hundreds)')\n",
    "plt.legend()\n",
    "plt.title(\"Cost of DNN models with Learning rate =\" + str(learning_rate))\n",
    "plt.show()"
   ]
  },
  {
   "cell_type": "markdown",
   "id": "f21f98b2",
   "metadata": {},
   "source": [
    "## Predict the true labels for test data and train data using the learned parameters"
   ]
  },
  {
   "cell_type": "code",
   "execution_count": 18,
   "id": "5d419828",
   "metadata": {},
   "outputs": [
    {
     "name": "stdout",
     "output_type": "stream",
     "text": [
      "two layers : \n",
      "\n",
      "Train accuracy: 0.9999999999999998\n",
      "Test accuracy: 0.72\n",
      "four layers : \n",
      "\n",
      "Train accuracy: 0.9999999999999998\n",
      "Test accuracy: 0.74\n"
     ]
    }
   ],
   "source": [
    "layer_names = [\"two layers\", 'four layers']\n",
    "prediction_y={} #{\"two layers\": [train_y_hat, test_y_hat], \"four layers\": [train_y_hat, test_y_hat]}\n",
    "accuracy = {} #{\"two layers\": [train_accuracy, test_accuracy], \"four layer\": [train_accuracy, test_accuracy]}\n",
    "\n",
    "for layerName in layer_names:\n",
    "    if layerName == 'two layers':\n",
    "        prediction_y[layerName]= [two_layers_model.predict(train_X, learned_params[layerName]),two_layers_model.predict(test_X, learned_params[layerName])]\n",
    "        accuracy[layerName]= [two_layers_model.accuracy(prediction_y[layerName][0], train_y), two_layers_model.accuracy(prediction_y[layerName][1], test_y)]\n",
    "    else:\n",
    "        prediction_y[layerName]= [four_layers_model.predict(train_X, learned_params[layerName]),two_layers_model.predict(test_X, learned_params[layerName])]\n",
    "        accuracy[layerName]= [four_layers_model.accuracy(prediction_y[layerName][0], train_y), two_layers_model.accuracy(prediction_y[layerName][1], test_y)]\n",
    "                                                                                                                \n",
    "for layerName in layer_names:\n",
    "    print(layerName, \": \\n\")\n",
    "    print(\"Train accuracy: {}\".format(accuracy[layerName][0]))\n",
    "    print(\"Test accuracy: {}\".format(accuracy[layerName][1]))\n",
    "# print(\"Two layer model: \\n Test accuracy: {} \\n Train accuracy: {}\".format(test_accuracy2, train_accuracy2))\n",
    "# print(\"Four layer model: \\n Test accuracy: {} \\n Train accuracy: {}\".format(test_accuracy4, train_accuracy4))\n"
   ]
  }
 ],
 "metadata": {
  "kernelspec": {
   "display_name": "Python 3 (ipykernel)",
   "language": "python",
   "name": "python3"
  },
  "language_info": {
   "codemirror_mode": {
    "name": "ipython",
    "version": 3
   },
   "file_extension": ".py",
   "mimetype": "text/x-python",
   "name": "python",
   "nbconvert_exporter": "python",
   "pygments_lexer": "ipython3",
   "version": "3.7.4"
  }
 },
 "nbformat": 4,
 "nbformat_minor": 5
}
