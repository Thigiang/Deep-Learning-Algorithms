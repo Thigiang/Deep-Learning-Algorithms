{
 "cells": [
  {
   "cell_type": "markdown",
   "id": "10add5a2",
   "metadata": {},
   "source": [
    "Importing packages needed for this project."
   ]
  },
  {
   "cell_type": "code",
   "execution_count": 1,
   "id": "fa7a83d5",
   "metadata": {},
   "outputs": [],
   "source": [
    "import numpy as np\n",
    "import copy\n",
    "import matplotlib.pyplot as plt\n",
    "import scipy\n",
    "from scipy import ndimage\n",
    "import h5py\n",
    "from PIL import Image\n",
    "from h5data import load_dataset\n",
    "from dnn import dnn\n",
    "import os\n",
    "from path import my_path"
   ]
  },
  {
   "cell_type": "code",
   "execution_count": 2,
   "id": "bb6476c5",
   "metadata": {},
   "outputs": [],
   "source": [
    "my_path = my_path\n",
    "data_folder = \"Datasets\"\n",
    "path = os.path.join(my_path, data_folder)\n",
    "train_X_orig, train_y, test_X_orig, test_y , classes = load_dataset(path, 'train_catvnoncat.h5', 'test_catvnoncat.h5')"
   ]
  },
  {
   "cell_type": "markdown",
   "id": "8f8a430a",
   "metadata": {},
   "source": [
    "Explore the dataset"
   ]
  },
  {
   "cell_type": "code",
   "execution_count": 3,
   "id": "56b8ab29",
   "metadata": {},
   "outputs": [
    {
     "name": "stdout",
     "output_type": "stream",
     "text": [
      "[[[196 192 190]\n",
      "  [193 186 182]\n",
      "  [188 179 174]\n",
      "  ...\n",
      "  [ 90 142 200]\n",
      "  [ 90 142 201]\n",
      "  [ 90 142 201]]\n",
      "\n",
      " [[230 229 229]\n",
      "  [204 199 197]\n",
      "  [193 186 181]\n",
      "  ...\n",
      "  [ 91 143 201]\n",
      "  [ 91 143 201]\n",
      "  [ 91 143 201]]\n",
      "\n",
      " [[232 225 224]\n",
      "  [235 234 234]\n",
      "  [208 205 202]\n",
      "  ...\n",
      "  [ 91 144 202]\n",
      "  [ 91 144 202]\n",
      "  [ 92 144 202]]\n",
      "\n",
      " ...\n",
      "\n",
      " [[ 18  17  15]\n",
      "  [ 14  14  13]\n",
      "  [ 29  29  32]\n",
      "  ...\n",
      "  [ 83  81  81]\n",
      "  [ 84  82  83]\n",
      "  [ 82  81  82]]\n",
      "\n",
      " [[ 22  20  18]\n",
      "  [ 16  15  14]\n",
      "  [ 25  24  24]\n",
      "  ...\n",
      "  [ 82  80  80]\n",
      "  [ 83  81  82]\n",
      "  [ 82  81  81]]\n",
      "\n",
      " [[ 45  43  39]\n",
      "  [ 61  59  54]\n",
      "  [ 81  78  74]\n",
      "  ...\n",
      "  [ 83  82  81]\n",
      "  [ 84  82  82]\n",
      "  [ 82  80  81]]]\n",
      "[[0 0 1 0 0 0 0 1 0 0 0 1 0 1 1 0 0 0 0 1 0 0 0 0 1 1 0 1 0 1 0 0 0 0 0 0\n",
      "  0 0 1 0 0 1 1 0 0 0 0 1 0 0 1 0 0 0 1 0 1 1 0 1 1 1 0 0 0 0 0 0 1 0 0 1\n",
      "  0 0 0 0 0 0 0 0 0 0 0 1 1 0 0 0 1 0 0 0 1 1 1 0 0 1 0 0 0 0 1 0 1 0 1 1\n",
      "  1 1 1 1 0 0 0 0 0 1 0 0 0 1 0 0 1 0 1 0 1 1 0 0 0 1 1 1 1 1 0 0 0 0 1 0\n",
      "  1 1 1 0 1 1 0 0 0 1 0 0 1 0 0 0 0 0 1 0 1 0 1 0 0 1 1 1 0 0 1 1 0 1 0 1\n",
      "  0 0 0 0 0 1 0 0 1 0 0 0 1 0 0 0 0 1 0 0 1 0 0 0 0 0 0 0 0]]\n",
      "[b'non-cat' b'cat']\n"
     ]
    }
   ],
   "source": [
    "print(train_X_orig[1])\n",
    "print(train_y)\n",
    "print(classes)"
   ]
  },
  {
   "cell_type": "markdown",
   "id": "db3cb903",
   "metadata": {},
   "source": [
    "It shows that there are 209 images. Each image has size 64x64x3 (3 represents RGB). Y train is row vector with 209 columns. Y take values 1 (cat) and 0 (non cat). To apply the neural network model, we will need to reshape X train and X test datasets. Also, for images dataset, the algorithm will work better if we standardize or normalize before running the ML model. For this dataset, we will standardize by dividing it by its maximum value (255)."
   ]
  },
  {
   "cell_type": "code",
   "execution_count": 4,
   "id": "e8a7cff6",
   "metadata": {},
   "outputs": [
    {
     "name": "stdout",
     "output_type": "stream",
     "text": [
      "X train has shape: (209, 64, 64, 3)\n",
      "Y train has shape: (1, 209)\n"
     ]
    }
   ],
   "source": [
    "print(\"X train has shape: \"+ str(train_X_orig.shape))\n",
    "print(\"Y train has shape: \"+ str(train_y.shape))"
   ]
  },
  {
   "cell_type": "code",
   "execution_count": 5,
   "id": "4a83f203",
   "metadata": {},
   "outputs": [
    {
     "name": "stdout",
     "output_type": "stream",
     "text": [
      "y= [0], it is a 'non-cat' picture.\n"
     ]
    },
    {
     "data": {
      "image/png": "[encoded data removed]",
      "text/plain": [
       "<Figure size 432x288 with 1 Axes>"
      ]
     },
     "metadata": {
      "needs_background": "light"
     },
     "output_type": "display_data"
    }
   ],
   "source": [
    "## plot an image in training set\n",
    "index = 5\n",
    "plt.imshow(train_X_orig[index])\n",
    "class_name = classes[np.squeeze(train_y[:, index])].decode(\"utf-8\")\n",
    "print(\"y= \"+ str(train_y[:, index]) + \", it is a '\" + class_name + \"' picture.\")"
   ]
  },
  {
   "cell_type": "code",
   "execution_count": 6,
   "id": "d64a24ca",
   "metadata": {},
   "outputs": [],
   "source": [
    "m_train, m_test = train_X_orig.shape[0], test_X_orig.shape[0]\n",
    "num_px = train_X_orig.shape[1]"
   ]
  },
  {
   "cell_type": "markdown",
   "id": "6bf56f4c",
   "metadata": {},
   "source": [
    "Preprocessing the dataset with 2 steps:\n",
    "1. Flatten X train and X test datasets using reshape function.\n",
    "2. Standardize the train and test sets by dividing its maxiumum value."
   ]
  },
  {
   "cell_type": "code",
   "execution_count": 7,
   "id": "75c2b0a8",
   "metadata": {},
   "outputs": [
    {
     "name": "stdout",
     "output_type": "stream",
     "text": [
      "X train now has shape:  (12288, 209)\n",
      "Y train has shape:  (1, 209)\n",
      "X test now has shape:  (12288, 50)\n",
      "Y test has shape:  (1, 50)\n",
      "There are 209 training examples in the train set\n",
      "There are 50 training examples in the test set\n"
     ]
    }
   ],
   "source": [
    "X_train_flatten = train_X_orig.reshape(m_train, -1).T\n",
    "X_test_flatten = test_X_orig.reshape(m_test, -1).T\n",
    "print(\"X train now has shape: \", X_train_flatten.shape)\n",
    "print(\"Y train has shape: \", train_y.shape)\n",
    "print(\"X test now has shape: \", X_test_flatten.shape)\n",
    "print(\"Y test has shape: \", test_y.shape)\n",
    "print(\"There are {} training examples in the train set\".format(X_train_flatten.shape[1]))\n",
    "print(\"There are {} training examples in the test set\".format(X_test_flatten.shape[1]))"
   ]
  },
  {
   "cell_type": "markdown",
   "id": "7e654015",
   "metadata": {},
   "source": [
    "Now the train and test sets have correct dimensions. We will standardize them before we apply the dnn model"
   ]
  },
  {
   "cell_type": "code",
   "execution_count": 8,
   "id": "1a93ebb5",
   "metadata": {},
   "outputs": [],
   "source": [
    "X_train =  X_train_flatten/255.\n",
    "X_test  =  X_test_flatten/255."
   ]
  },
  {
   "cell_type": "code",
   "execution_count": 9,
   "id": "deb3b509",
   "metadata": {},
   "outputs": [],
   "source": [
    "deep_learning_model = dnn()"
   ]
  },
  {
   "cell_type": "markdown",
   "id": "d070d262",
   "metadata": {},
   "source": [
    "We will first train the model with 2 layers with 5 units in the hidden layer and 1 unit in the output layer"
   ]
  },
  {
   "cell_type": "code",
   "execution_count": 10,
   "id": "25084f9b",
   "metadata": {},
   "outputs": [],
   "source": [
    "# n_x = X_train.shape[0]\n",
    "# layer_sizes = [n_x, 7, 1]\n",
    "# params, costs = deep_learning_model.dnn_model(X_train, train_y, 2500, 0.0075, layer_sizes, print_cost = True)"
   ]
  },
  {
   "cell_type": "code",
   "execution_count": 11,
   "id": "5b610dc4",
   "metadata": {},
   "outputs": [],
   "source": [
    "# learning_rate = 0.075\n",
    "# plt.plot(np.squeeze(costs))\n",
    "# plt.ylabel('cost')\n",
    "# plt.xlabel('iterations (per hundreds)')\n",
    "# plt.title(\"Learning rate =\" + str(learning_rate))\n",
    "# plt.show()"
   ]
  },
  {
   "cell_type": "code",
   "execution_count": 44,
   "id": "da7e0497",
   "metadata": {},
   "outputs": [
    {
     "name": "stdout",
     "output_type": "stream",
     "text": [
      "Cost at 0th iteration is: 0.6932790662681539.\n",
      "Cost at 100th iteration is: 0.6553960625134253.\n",
      "Cost at 200th iteration is: 0.6467293474142922.\n",
      "Cost at 300th iteration is: 0.6446462314115919.\n",
      "Cost at 400th iteration is: 0.6441269982418439.\n",
      "Cost at 500th iteration is: 0.6439897379661838.\n",
      "Cost at 600th iteration is: 0.6439445581029861.\n",
      "Cost at 700th iteration is: 0.6439167203777776.\n",
      "Cost at 800th iteration is: 0.6438865686679938.\n",
      "Cost at 900th iteration is: 0.6438416715434329.\n",
      "Cost at 1000th iteration is: 0.6437645412470369.\n",
      "Cost at 1100th iteration is: 0.6436203953948879.\n",
      "Cost at 1200th iteration is: 0.643324686927407.\n",
      "Cost at 1300th iteration is: 0.6425908954853968.\n",
      "Cost at 1400th iteration is: 0.6402841779576377.\n",
      "Cost at 1500th iteration is: 0.6296825934287017.\n",
      "Cost at 1600th iteration is: 0.5728032000516136.\n",
      "Cost at 1700th iteration is: 0.48710410025626805.\n",
      "Cost at 1800th iteration is: 0.48798462242472795.\n",
      "Cost at 1900th iteration is: 0.41970829847413677.\n",
      "Cost at 2000th iteration is: 0.26940409484348066.\n",
      "Cost at 2100th iteration is: 0.5509600947833789.\n",
      "Cost at 2199th iteration is: 0.25090823281162605.\n"
     ]
    }
   ],
   "source": [
    "n_x = X_train.shape[0]\n",
    "layer_sizes = [12288,20, 7, 1]\n",
    "params, costs = deep_learning_model.dnn_model(X_train, train_y, num_iterations= 2200, learning_rate=0.030,layer_sizes=layer_sizes, print_cost = True)"
   ]
  },
  {
   "cell_type": "code",
   "execution_count": 45,
   "id": "5d419828",
   "metadata": {},
   "outputs": [
    {
     "name": "stdout",
     "output_type": "stream",
     "text": [
      "Accuracy: 0.74\n",
      "Accuracy: 0.6746411483253587\n"
     ]
    }
   ],
   "source": [
    "y_test_prediction = deep_learning_model.predict(X_test,test_y, params)\n",
    "y_train_prediction= deep_learning_model.predict(X_train,train_y, params)"
   ]
  },
  {
   "cell_type": "code",
   "execution_count": 14,
   "id": "3346a60e",
   "metadata": {},
   "outputs": [
    {
     "name": "stdout",
     "output_type": "stream",
     "text": [
      "test accuracy is: 0.66\n",
      "train accuracy is: 0.3444976076555024\n"
     ]
    }
   ],
   "source": [
    "test_accuracy = np.sum(np.abs(y_test_prediction - test_y))/(test_y.shape[1])\n",
    "train_accuracy = np.sum(np.abs(y_train_prediction - train_y))/(train_y.shape[1])\n",
    "print(\"test accuracy is: {}\".format(test_accuracy))\n",
    "print(\"train accuracy is: {}\".format(train_accuracy))"
   ]
  },
  {
   "cell_type": "code",
   "execution_count": 46,
   "id": "9fe17a3d",
   "metadata": {},
   "outputs": [
    {
     "data": {
      "image/png": "[encoded data removed]",
      "text/plain": [
       "<Figure size 432x288 with 1 Axes>"
      ]
     },
     "metadata": {
      "needs_background": "light"
     },
     "output_type": "display_data"
    }
   ],
   "source": [
    "learning_rate = 0.0075\n",
    "plt.plot(np.squeeze(costs))\n",
    "plt.ylabel('cost')\n",
    "plt.xlabel('iterations (per hundreds)')\n",
    "plt.title(\"Learning rate =\" + str(learning_rate))\n",
    "plt.show()\n"
   ]
  },
  {
   "cell_type": "code",
   "execution_count": null,
   "id": "0536129b",
   "metadata": {},
   "outputs": [],
   "source": []
  }
 ],
 "metadata": {
  "kernelspec": {
   "display_name": "Python 3 (ipykernel)",
   "language": "python",
   "name": "python3"
  },
  "language_info": {
   "codemirror_mode": {
    "name": "ipython",
    "version": 3
   },
   "file_extension": ".py",
   "mimetype": "text/x-python",
   "name": "python",
   "nbconvert_exporter": "python",
   "pygments_lexer": "ipython3",
   "version": "3.7.4"
  }
 },
 "nbformat": 4,
 "nbformat_minor": 5
}
